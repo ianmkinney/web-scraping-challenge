{
 "cells": [
  {
   "cell_type": "code",
   "execution_count": 14,
   "metadata": {},
   "outputs": [],
   "source": [
    "import traceback\n",
    "import sys\n",
    "from bs4 import BeautifulSoup as bs4\n",
    "import pandas as pd \n",
    "from splinter import Browser\n",
    "from webdriver_manager.chrome import ChromeDriverManager"
   ]
  },
  {
   "cell_type": "code",
   "execution_count": 23,
   "metadata": {},
   "outputs": [],
   "source": [
    "# URLs to scrape\n",
    "nasa_news = \"https://mars.nasa.gov/news/\"\n",
    "mars_images = \"https://data-class-jpl-space.s3.amazonaws.com/JPL_Space/index.html\"\n",
    "mars_facts = \"https://space-facts.com/mars/\"\n",
    "astro_url = \"https://astrogeology.usgs.gov\"\n",
    "mars_hemispheres = astro_url + \"/search/results?q=hemisphere+enhanced&k1=target&v1=Mars\"\n",
    "weather_url = \"https://twitter.com/marswxreport?lang=en\""
   ]
  },
  {
   "cell_type": "code",
   "execution_count": 16,
   "metadata": {},
   "outputs": [],
   "source": [
    "# browser class to enable scraping through chrome\n",
    "# Each creation of ChromeBrowser object will open then close a new browser to perform an operation\n",
    "class ChromeBrowser(object):\n",
    "\n",
    "    def __init__(self, url):\n",
    "        self.url = url\n",
    "\n",
    "    def __enter__(self):\n",
    "        executable_path = {'executable_path': ChromeDriverManager().install()}\n",
    "        self.browser = Browser('chrome', **executable_path, headless=False)\n",
    "        self.browser.visit(self.url)\n",
    "        return self.browser\n",
    "\n",
    "    def __exit__(self, ex_type, val, tb):\n",
    "        if (ex_type is not None):\n",
    "            traceback.print_exception(ex_type, val, tb)\n",
    "        if (self.browser is not None):\n",
    "            self.browser.quit()\n",
    "        return True"
   ]
  },
  {
   "cell_type": "code",
   "execution_count": 17,
   "metadata": {},
   "outputs": [
    {
     "name": "stderr",
     "output_type": "stream",
     "text": [
      "\n",
      "\n",
      "====== WebDriver manager ======\n",
      "Current google-chrome version is 95.0.4638\n",
      "Get LATEST driver version for 95.0.4638\n",
      "Driver [/Users/admin/.wdm/drivers/chromedriver/mac64/95.0.4638.54/chromedriver] found in cache\n"
     ]
    },
    {
     "name": "stdout",
     "output_type": "stream",
     "text": [
      "Mars Now\n",
      "---------------------\n",
      "Now you can see the Mars Yard up close, roam the world-class Microdevices Lab, visit the shop where spacecraft parts are made, and stop into a clean room where spacecraft take shape.  \n"
     ]
    }
   ],
   "source": [
    "# Scrape NASA News site\n",
    "# Collect news_title and news_p from site and store for later use\n",
    "news_title = \"\"\n",
    "news_p = \"\"\n",
    "\n",
    "with ChromeBrowser(nasa_news) as browser: \n",
    "    html = browser.html\n",
    "    soup = bs4(html, \"html.parser\")\n",
    "    news_title = soup.find('div', class_='content_title').text\n",
    "    news_p = soup.find('div', class_='article_teaser_body').text\n",
    "\n",
    "print(news_title)\n",
    "print('---------------------')\n",
    "print(news_p)"
   ]
  },
  {
   "cell_type": "code",
   "execution_count": 18,
   "metadata": {},
   "outputs": [
    {
     "name": "stderr",
     "output_type": "stream",
     "text": [
      "\n",
      "\n",
      "====== WebDriver manager ======\n",
      "Current google-chrome version is 95.0.4638\n",
      "Get LATEST driver version for 95.0.4638\n",
      "Driver [/Users/admin/.wdm/drivers/chromedriver/mac64/95.0.4638.54/chromedriver] found in cache\n"
     ]
    },
    {
     "name": "stdout",
     "output_type": "stream",
     "text": [
      "https://data-class-jpl-space.s3.amazonaws.com/JPL_Space/image/featured/mars2.jpg\n"
     ]
    }
   ],
   "source": [
    "image_url = \"\"\n",
    "\n",
    "with ChromeBrowser(mars_images) as browser:\n",
    "    html = browser.html\n",
    "    soup = bs4(html, \"html.parser\")\n",
    "    browser.links.find_by_partial_text(\"FULL IMAGE\").click()\n",
    "    html = browser.html\n",
    "    soup = bs4(html, \"html.parser\")\n",
    "    image_url = mars_images.replace(\"index.html\", soup.find(class_=\"fancybox-image\")[\"src\"])\n",
    "print(image_url)"
   ]
  },
  {
   "cell_type": "code",
   "execution_count": 19,
   "metadata": {},
   "outputs": [
    {
     "name": "stderr",
     "output_type": "stream",
     "text": [
      "\n",
      "\n",
      "====== WebDriver manager ======\n",
      "Current google-chrome version is 95.0.4638\n",
      "Get LATEST driver version for 95.0.4638\n",
      "Driver [/Users/admin/.wdm/drivers/chromedriver/mac64/95.0.4638.54/chromedriver] found in cache\n"
     ]
    },
    {
     "data": {
      "text/html": [
       "<div>\n",
       "<style scoped>\n",
       "    .dataframe tbody tr th:only-of-type {\n",
       "        vertical-align: middle;\n",
       "    }\n",
       "\n",
       "    .dataframe tbody tr th {\n",
       "        vertical-align: top;\n",
       "    }\n",
       "\n",
       "    .dataframe thead th {\n",
       "        text-align: right;\n",
       "    }\n",
       "</style>\n",
       "<table border=\"1\" class=\"dataframe\">\n",
       "  <thead>\n",
       "    <tr style=\"text-align: right;\">\n",
       "      <th></th>\n",
       "      <th>Mars</th>\n",
       "      <th>Earth</th>\n",
       "    </tr>\n",
       "    <tr>\n",
       "      <th>Mars - Earth Comparison</th>\n",
       "      <th></th>\n",
       "      <th></th>\n",
       "    </tr>\n",
       "  </thead>\n",
       "  <tbody>\n",
       "    <tr>\n",
       "      <th>Diameter:</th>\n",
       "      <td>6,779 km</td>\n",
       "      <td>12,742 km</td>\n",
       "    </tr>\n",
       "    <tr>\n",
       "      <th>Mass:</th>\n",
       "      <td>6.39 × 10^23 kg</td>\n",
       "      <td>5.97 × 10^24 kg</td>\n",
       "    </tr>\n",
       "    <tr>\n",
       "      <th>Moons:</th>\n",
       "      <td>2</td>\n",
       "      <td>1</td>\n",
       "    </tr>\n",
       "    <tr>\n",
       "      <th>Distance from Sun:</th>\n",
       "      <td>227,943,824 km</td>\n",
       "      <td>149,598,262 km</td>\n",
       "    </tr>\n",
       "    <tr>\n",
       "      <th>Length of Year:</th>\n",
       "      <td>687 Earth days</td>\n",
       "      <td>365.24 days</td>\n",
       "    </tr>\n",
       "    <tr>\n",
       "      <th>Temperature:</th>\n",
       "      <td>-87 to -5 °C</td>\n",
       "      <td>-88 to 58°C</td>\n",
       "    </tr>\n",
       "  </tbody>\n",
       "</table>\n",
       "</div>"
      ],
      "text/plain": [
       "                                    Mars            Earth\n",
       "Mars - Earth Comparison                                  \n",
       "Diameter:                       6,779 km        12,742 km\n",
       "Mass:                    6.39 × 10^23 kg  5.97 × 10^24 kg\n",
       "Moons:                                 2                1\n",
       "Distance from Sun:        227,943,824 km   149,598,262 km\n",
       "Length of Year:           687 Earth days      365.24 days\n",
       "Temperature:                -87 to -5 °C      -88 to 58°C"
      ]
     },
     "execution_count": 19,
     "metadata": {},
     "output_type": "execute_result"
    }
   ],
   "source": [
    "with ChromeBrowser(mars_facts) as browser:\n",
    "    mars_facts_frame = pd.read_html(browser.html, match=\"Mars\")[0]\n",
    "    mars_facts_frame = mars_facts_frame.set_index(\"Mars - Earth Comparison\", drop=True)\n",
    "    mars_facts_frame.columns = [col.replace(\":\",\"\") for col in mars_facts_frame.columns]\n",
    "    #mars_facts_frame.drop('Earth', axis=1, inplace=True) #If you want to get rid of Earth Comparison\n",
    "mars_facts_frame"
   ]
  },
  {
   "cell_type": "code",
   "execution_count": 20,
   "metadata": {},
   "outputs": [
    {
     "name": "stderr",
     "output_type": "stream",
     "text": [
      "\n",
      "\n",
      "====== WebDriver manager ======\n",
      "Current google-chrome version is 95.0.4638\n",
      "Get LATEST driver version for 95.0.4638\n",
      "Driver [/Users/admin/.wdm/drivers/chromedriver/mac64/95.0.4638.54/chromedriver] found in cache\n"
     ]
    },
    {
     "name": "stdout",
     "output_type": "stream",
     "text": [
      "{'title': 'Cerberus Hemisphere Enhanced', 'img_url': 'https://astrogeology.usgs.gov/cache/images/f5e372a36edfa389625da6d0cc25d905_cerberus_enhanced.tif_full.jpg'}\n",
      "{'title': 'Schiaparelli Hemisphere Enhanced', 'img_url': 'https://astrogeology.usgs.gov/cache/images/3778f7b43bbbc89d6e3cfabb3613ba93_schiaparelli_enhanced.tif_full.jpg'}\n",
      "{'title': 'Syrtis Major Hemisphere Enhanced', 'img_url': 'https://astrogeology.usgs.gov/cache/images/555e6403a6ddd7ba16ddb0e471cadcf7_syrtis_major_enhanced.tif_full.jpg'}\n",
      "{'title': 'Valles Marineris Hemisphere Enhanced', 'img_url': 'https://astrogeology.usgs.gov/cache/images/b3c7c6c9138f57b4756be9b9c43e3a48_valles_marineris_enhanced.tif_full.jpg'}\n"
     ]
    }
   ],
   "source": [
    "image_urls = []\n",
    "\n",
    "with ChromeBrowser(mars_hemispheres) as browser:\n",
    "    html = browser.html\n",
    "    soup = bs4(html, \"html.parser\")\n",
    "    res = soup.find(class_=\"result-list\").find_all(class_=\"item\")\n",
    "    for r in res: \n",
    "        hemi = {}\n",
    "        hemi[\"title\"] = r.find(\"h3\").text\n",
    "        browser.links.find_by_partial_text(hemi[\"title\"]).click()\n",
    "        html = browser.html\n",
    "        soup = bs4(html, \"html.parser\")\n",
    "        hemi[\"img_url\"] = astro_url + soup.find(class_=\"wide-image\")[\"src\"]\n",
    "        image_urls.append(hemi)\n",
    "        browser.back()\n",
    "\n",
    "for url in image_urls:\n",
    "    print(url)"
   ]
  },
  {
   "cell_type": "code",
   "execution_count": 27,
   "metadata": {},
   "outputs": [
    {
     "name": "stderr",
     "output_type": "stream",
     "text": [
      "\n",
      "\n",
      "====== WebDriver manager ======\n",
      "Current google-chrome version is 95.0.4638\n",
      "Get LATEST driver version for 95.0.4638\n",
      "Driver [/Users/admin/.wdm/drivers/chromedriver/mac64/95.0.4638.54/chromedriver] found in cache\n"
     ]
    },
    {
     "name": "stdout",
     "output_type": "stream",
     "text": [
      "[]\n"
     ]
    }
   ],
   "source": [
    "with ChromeBrowser(weather_url) as browser:\n",
    "        html = browser.html\n",
    "        soup = bs4(html, 'html.parser')\n",
    "\n",
    "        results = soup.find_all('p', class_=\"TweetTextSize\")\n",
    "\n",
    "        # Grab text of first tweet\n",
    "        \n",
    "        print(results)"
   ]
  },
  {
   "cell_type": "code",
   "execution_count": null,
   "metadata": {},
   "outputs": [],
   "source": []
  }
 ],
 "metadata": {
  "kernelspec": {
   "display_name": "Python 3.9.2 64-bit",
   "metadata": {
    "interpreter": {
     "hash": "217a5f87d22367781b4b2c6184a516085cff6f236c3d11b609979adedfcc6daf"
    }
   },
   "name": "python3"
  },
  "language_info": {
   "codemirror_mode": {
    "name": "ipython",
    "version": 3
   },
   "file_extension": ".py",
   "mimetype": "text/x-python",
   "name": "python",
   "nbconvert_exporter": "python",
   "pygments_lexer": "ipython3",
   "version": "3.8.8"
  },
  "orig_nbformat": 2
 },
 "nbformat": 4,
 "nbformat_minor": 2
}
